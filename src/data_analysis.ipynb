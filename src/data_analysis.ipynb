{
 "cells": [
  {
   "cell_type": "markdown",
   "id": "fc967605",
   "metadata": {},
   "source": [
    "## Imports, Settings, & Functions"
   ]
  },
  {
   "cell_type": "code",
   "execution_count": 1,
   "id": "fa8367a3",
   "metadata": {},
   "outputs": [],
   "source": [
    "import cv2\n",
    "import PIL.Image as Image\n",
    "import os\n",
    "from scipy.io import loadmat\n",
    "from scipy.io.matlab import mat_struct\n",
    "import matplotlib.pyplot as plt\n",
    "import numpy as np\n",
    "from sklearn.cluster import KMeans\n",
    "import json\n",
    "from tqdm import tqdm\n",
    "from collections import defaultdict"
   ]
  },
  {
   "cell_type": "code",
   "execution_count": 2,
   "id": "9d50ed50",
   "metadata": {},
   "outputs": [],
   "source": [
    "root_dir = \"/home/linux-pc/gh/projects/NeuralNexus/New-Features/Thought-to-Image/V1-Visual-Cortex-Visualization\"\n",
    "data_root_dir = root_dir + \"/data/crcns-pvc1/crcns-ringach-data/\"\n",
    "movie_root_dir = \"movie_frames/movie000_000.images/\"\n",
    "current_movie = \"movie000_000_000.jpeg\"\n",
    "neuro_root_dir = \"neurodata/ac1/\"\n",
    "current_neuro_data = \"ac1_u004_000.mat\""
   ]
  },
  {
   "cell_type": "code",
   "execution_count": 3,
   "id": "86db1e2e",
   "metadata": {},
   "outputs": [],
   "source": [
    "movie_frame_path = '/home/linux-pc/gh/projects/NeuralNexus/New-Features/Thought-to-Image/V1-Visual-Cortex-Visualization/data/crcns-pvc1/crcns-ringach-data/movie_frames/movie000_000.images/movie000_000_000.jpeg'"
   ]
  },
  {
   "cell_type": "code",
   "execution_count": 4,
   "id": "a469bd0a",
   "metadata": {},
   "outputs": [],
   "source": [
    "def matlab_to_python(obj):\n",
    "    \"\"\"Recursively convert MATLAB structs and cell arrays to Python dicts/lists.\"\"\"\n",
    "    if isinstance(obj, mat_struct):\n",
    "        return {field: matlab_to_python(getattr(obj, field)) for field in obj._fieldnames}\n",
    "    elif isinstance(obj, np.ndarray):\n",
    "        # Handle MATLAB cell arrays\n",
    "        if obj.dtype == object:\n",
    "            return [matlab_to_python(el) for el in obj.flat]\n",
    "        else:\n",
    "            return obj\n",
    "    elif isinstance(obj, list):\n",
    "        return [matlab_to_python(el) for el in obj]\n",
    "    else:\n",
    "        return obj\n"
   ]
  },
  {
   "cell_type": "code",
   "execution_count": 5,
   "id": "bc8c51f6",
   "metadata": {},
   "outputs": [],
   "source": [
    "def analyze_waveform(pepANA_clean, condition=0, electrode=0, verbose=False):\n",
    "    \"\"\"\n",
    "    Analyze SVD of waveforms from a specific condition and electrode in pepANA.\n",
    "\n",
    "    Parameters:\n",
    "        pepANA_clean: dict - Unpacked MATLAB structure from loadmat\n",
    "        condition: int - Index of the condition (0-based)\n",
    "        electrode: int - Index of the electrode (0-based)\n",
    "        verbose: bool - Whether to show plots\n",
    "\n",
    "    Returns:\n",
    "        signal_idx: np.ndarray - Indices of waveforms classified as signal\n",
    "    \"\"\"\n",
    "\n",
    "    # Extract waveform matrix [time x waveforms]\n",
    "    waveforms = pepANA_clean[\"listOfResults\"][condition][\"repeat\"][\"data\"][electrode][1]\n",
    "    waveforms = np.array(waveforms, dtype=np.float64)  # Ensure float precision\n",
    "\n",
    "    # Perform SVD\n",
    "    u, s, vT = np.linalg.svd(waveforms, full_matrices=False)  # vT: shape [n_waveforms, n_waveforms]\n",
    "\n",
    "    # Projection into first 2 principal components\n",
    "    projections = vT.T[:, :2]  # shape: [n_waveforms, 2]\n",
    "\n",
    "    # Plot SVD projections\n",
    "    if verbose:\n",
    "        plt.figure(figsize=(8, 6))\n",
    "        plt.scatter(projections[:, 0], projections[:, 1], s=10)\n",
    "        plt.plot(0, 0, 'r.', markersize=25)\n",
    "        plt.title(f\"SVD Projection: Condition {condition+1}, Electrode {electrode+1}\")\n",
    "        plt.xlabel(\"1st Principal Component\")\n",
    "        plt.ylabel(\"2nd Principal Component\")\n",
    "        plt.grid(True)\n",
    "        plt.tight_layout()\n",
    "        plt.show()\n",
    "\n",
    "    # Cluster using k-means on waveforms\n",
    "    km = KMeans(n_clusters=2, random_state=0)\n",
    "    cluster_labels = km.fit_predict(waveforms.T)  # waveforms.T: shape [n_waveforms x time]\n",
    "\n",
    "    # Separate clusters\n",
    "    idx1 = np.where(cluster_labels == 0)[0]\n",
    "    idx2 = np.where(cluster_labels == 1)[0]\n",
    "\n",
    "    # Compare total amplitude to identify signal vs noise\n",
    "    mean1 = np.mean(waveforms[:, idx1], axis=1)\n",
    "    mean2 = np.mean(waveforms[:, idx2], axis=1)\n",
    "\n",
    "    amp1 = np.sum(np.abs(mean1))\n",
    "    amp2 = np.sum(np.abs(mean2))\n",
    "\n",
    "    if amp1 > amp2:\n",
    "        signal_idx = idx1\n",
    "        noise_idx = idx2\n",
    "    else:\n",
    "        signal_idx = idx2\n",
    "        noise_idx = idx1\n",
    "\n",
    "    # Detailed plotting if verbose\n",
    "    if verbose:\n",
    "        fig, (ax1, ax2) = plt.subplots(1, 2, figsize=(14, 5))\n",
    "\n",
    "        ax1.scatter(projections[noise_idx, 0], projections[noise_idx, 1], color='b', s=10, label=\"Noise\")\n",
    "        ax1.scatter(projections[signal_idx, 0], projections[signal_idx, 1], color='g', s=10, label=\"Signal\")\n",
    "        ax1.plot(0, 0, 'r.', markersize=25)\n",
    "        ax1.set_title(\"SVD Clustering\")\n",
    "        ax1.set_xlabel(\"1st PC\")\n",
    "        ax1.set_ylabel(\"2nd PC\")\n",
    "        ax1.legend()\n",
    "        ax1.grid(True)\n",
    "\n",
    "        # Plot error bars of signal and noise mean traces\n",
    "        timepoints = np.arange(waveforms.shape[0])\n",
    "        signal_waveforms = waveforms[:, signal_idx].T\n",
    "        noise_waveforms = waveforms[:, noise_idx].T\n",
    "\n",
    "        ax2.errorbar(\n",
    "            timepoints,\n",
    "            np.mean(signal_waveforms, axis=0),\n",
    "            yerr=np.std(signal_waveforms, axis=0),\n",
    "            label=\"Signal\", color='g'\n",
    "        )\n",
    "        ax2.errorbar(\n",
    "            timepoints,\n",
    "            np.mean(noise_waveforms, axis=0),\n",
    "            yerr=np.std(noise_waveforms, axis=0),\n",
    "            label=\"Noise\", color='b'\n",
    "        )\n",
    "        ax2.set_xlim([0, 49])\n",
    "        ax2.set_title(\"Mean Waveform with Std Dev\")\n",
    "        ax2.set_xlabel(\"Time\")\n",
    "        ax2.set_ylabel(\"Amplitude\")\n",
    "        ax2.grid(True)\n",
    "        ax2.legend()\n",
    "\n",
    "        plt.tight_layout()\n",
    "        plt.show()\n",
    "    else:\n",
    "        noise_waveforms = waveforms[:, noise_idx].T\n",
    "\n",
    "    return signal_idx, np.mean(noise_waveforms, axis=0)\n",
    "\n"
   ]
  },
  {
   "cell_type": "code",
   "execution_count": 6,
   "id": "73922607",
   "metadata": {},
   "outputs": [],
   "source": [
    "def plot_signal_waveforms_aligned(pepANA_clean, condition, signal_idx, electrode=0, sampling_rate=30000.0):\n",
    "    \"\"\"\n",
    "    Plot each waveform in `signal_idx` aligned to its actual time points.\n",
    "\n",
    "    Parameters:\n",
    "        pepANA_clean : dict\n",
    "            MATLAB structure loaded via scipy.io.loadmat\n",
    "        condition : int\n",
    "            Index into the listOfResults (0-based)\n",
    "        signal_idx : array-like\n",
    "            Indices of signal-classified waveforms\n",
    "        electrode : int\n",
    "            Which electrode (0-based index into .data)\n",
    "        sampling_rate : float\n",
    "            Sampling rate in Hz (default 30 kHz)\n",
    "    \"\"\"\n",
    "\n",
    "    arrival_times = pepANA_clean[\"listOfResults\"][condition][\"repeat\"][\"data\"][electrode][0]  # shape: (N,)\n",
    "    waveforms = pepANA_clean[\"listOfResults\"][condition][\"repeat\"][\"data\"][electrode][1]       # shape: (48, N)\n",
    "\n",
    "    # Constants\n",
    "    waveform_length = waveforms.shape[0]                   # 48 samples\n",
    "    time_step = 1.0 / sampling_rate                        # e.g., 1 / 30000 seconds\n",
    "\n",
    "    plt.figure(figsize=(12, 8))\n",
    "\n",
    "    for idx in signal_idx:\n",
    "        t0 = arrival_times[idx]                            # starting time of spike\n",
    "        waveform = waveforms[:, idx]\n",
    "        t_waveform = t0 + np.arange(waveform_length) * time_step  # 48 time samples starting at t0\n",
    "\n",
    "        plt.plot(t_waveform * 1000, waveform, alpha=0.4)   # convert to ms\n",
    "\n",
    "    plt.xlabel(\"Time (ms)\")\n",
    "    plt.ylabel(\"Amplitude (int8 units)\")\n",
    "    plt.title(f\"Signal-Aligned Waveforms (n={len(signal_idx)})\")\n",
    "    plt.grid(True)\n",
    "    plt.tight_layout()\n",
    "\n",
    "    plt.show()\n"
   ]
  },
  {
   "cell_type": "code",
   "execution_count": 7,
   "id": "c8f8094a",
   "metadata": {},
   "outputs": [],
   "source": [
    "def collect_mean_noise_waveforms_and_signal_indices(pepANA_clean, condition=0, verbose=False):\n",
    "    \"\"\"This will collect all the mean noise waveforms to be used when a waveform is not detected from the stimulus in another electrode. \n",
    "    This will also return all indices of detected signals.\n",
    "\n",
    "    Args:\n",
    "        pepANA_clean (dict): This is the dict containing all 120 conditions and meta data for the trials.\n",
    "        condition (int): This is the condition that is being inspected.\n",
    "        verbose (bool): If true, the detected mean signal waveform and corresponding mean noise will be plot.\n",
    "    \n",
    "    Returns:\n",
    "        mean_noise_waveforms (np.ndarray): 16 x 48 mean-noise waveforms for a single condition.\n",
    "        signal_idx_l (list): Each list index is an np.array of indices of detected signals for use \n",
    "            in the pepANA_clean[\"listOfResults\"][0][\"repeat\"][\"data\"][electrode][1] for signal \n",
    "            and pepANA_clean[\"listOfResults\"][0][\"repeat\"][\"data\"][electrode][0] for initial starting times.\n",
    "    \"\"\"\n",
    "    mean_noise_waveforms = np.zeros((16,48))\n",
    "    signal_idx_l = []\n",
    "\n",
    "    for electrode in range(16):\n",
    "        signal_indices, mean_noise_waveforms[electrode] = analyze_waveform(pepANA_clean, condition=condition, electrode=electrode, verbose=verbose)\n",
    "        signal_idx_l.append(signal_indices)\n",
    "    return signal_idx_l, mean_noise_waveforms\n"
   ]
  },
  {
   "cell_type": "code",
   "execution_count": 8,
   "id": "9f7b756c",
   "metadata": {},
   "outputs": [],
   "source": [
    "# Calculate the global mean and standard deviation\n",
    "def calculate_global_mean_and_std(pepANA_clean, write=False, filename=\"electrode_global_mean_std.json\"):\n",
    "    global_electrode_mean_std = {}\n",
    "    for electrode in range(16):\n",
    "        all_signal = pepANA_clean[\"listOfResults\"][0][\"repeat\"][\"data\"][electrode][1].flatten()\n",
    "        for condition in range(1, 120):\n",
    "            signal = pepANA_clean[\"listOfResults\"][condition][\"repeat\"][\"data\"][electrode][1].flatten()\n",
    "            all_signal = np.concatenate((all_signal, signal))\n",
    "        global_electrode_mean_std[electrode] = {\"mean\": np.mean(all_signal), \"std\": np.std(all_signal)}\n",
    "        del all_signal\n",
    "    if write:\n",
    "        with open(filename, \"w\") as f:\n",
    "            json.dump(global_electrode_mean_std, f)\n",
    "    return global_electrode_mean_std"
   ]
  },
  {
   "cell_type": "code",
   "execution_count": 9,
   "id": "d6b85857",
   "metadata": {},
   "outputs": [],
   "source": [
    "def identify_stimulus_images(pepANA_clean, signal_idx, condition=0, electrode=0, latency=60e-3):\n",
    "    FRAME_PERIOD = 1/30\n",
    "    frame_indices = ((pepANA_clean[\"listOfResults\"][condition][\"repeat\"][\"data\"][electrode][0][signal_idx] - latency) // FRAME_PERIOD).astype(int)\n",
    "    \n",
    "    # Movie_id is 0, 1, 2, or 3; \n",
    "    movie_id, segment_id = pepANA_clean[\"listOfResults\"][condition][\"values\"]\n",
    "    movie_id_zeros_n = (3 - len(str(abs(movie_id))))\n",
    "    movie_id_zeros = repr(0)*movie_id_zeros_n\n",
    "    movie_id_formatted = movie_id_zeros + str(movie_id)\n",
    "\n",
    "    # segment_id is greater than 10 less than 100\n",
    "    segment_id_zeros_n = (3 - len(str(abs(segment_id))))\n",
    "    segment_id_zeros = repr(0)*segment_id_zeros_n\n",
    "    segment_id_formatted =  segment_id_zeros + str(segment_id)\n",
    "    \n",
    "    # Frame Indices Format\n",
    "    frame_indices_formatted = [str(idx).zfill(3) for idx in frame_indices]\n",
    "\n",
    "    movie_frame_str_l = [\"movie\" + movie_id_formatted + \"_\" + segment_id_formatted + \"_\" + frame_indices_formatted_idx + \".jpeg\" for frame_indices_formatted_idx in frame_indices_formatted]\n",
    "    movie_frames_root_path = \"../data/crcns-pvc1/crcns-ringach-data/movie_frames/\"\n",
    "    movie_frame_dir = \"movie\" + movie_id_formatted + \"_\" + segment_id_formatted + \".images\"\n",
    "    full_image_path_l = [movie_frames_root_path + movie_frame_dir + \"/\" + movie_frame_str for movie_frame_str in movie_frame_str_l]\n",
    "    \n",
    "    return full_image_path_l"
   ]
  },
  {
   "cell_type": "markdown",
   "id": "4309468f",
   "metadata": {},
   "source": [
    "### Testing image data load"
   ]
  },
  {
   "cell_type": "code",
   "execution_count": null,
   "id": "3a7c588d",
   "metadata": {},
   "outputs": [],
   "source": [
    "path = \"../data/crcns-pvc1/crcns-ringach-data/movie_frames/movie000_000.images/movie000_000_000.jpeg\""
   ]
  },
  {
   "cell_type": "code",
   "execution_count": null,
   "id": "cdd4e852",
   "metadata": {},
   "outputs": [],
   "source": [
    "image = cv2.imread(path , cv2.IMREAD_COLOR)\n",
    "cv2.imshow(\"Image\", image)\n",
    "cv2.waitKey(0)\n",
    "cv2.destroyAllWindows()"
   ]
  },
  {
   "cell_type": "code",
   "execution_count": null,
   "id": "71485e80",
   "metadata": {},
   "outputs": [],
   "source": [
    "image = Image.open(movie_frame_path)\n",
    "image.show()"
   ]
  },
  {
   "cell_type": "markdown",
   "id": "be39aa40",
   "metadata": {},
   "source": [
    "### Testing neural data load"
   ]
  },
  {
   "cell_type": "code",
   "execution_count": null,
   "id": "c6d35ea5",
   "metadata": {},
   "outputs": [],
   "source": [
    "neuro_data_path = os.path.join(data_root_dir, neuro_root_dir, current_neuro_data)\n",
    "mat = loadmat(neuro_data_path, struct_as_record=False, squeeze_me=True)\n",
    "pepANA = mat[\"pepANA\"]\n",
    "pepANA_clean = matlab_to_python(pepANA)"
   ]
  },
  {
   "cell_type": "code",
   "execution_count": null,
   "id": "2013c206",
   "metadata": {},
   "outputs": [],
   "source": [
    "# Total Number of Conditions\n",
    "pepANA_clean[\"no_conditions\"]"
   ]
  },
  {
   "cell_type": "code",
   "execution_count": null,
   "id": "00152edb",
   "metadata": {},
   "outputs": [],
   "source": [
    "# Arrival Times for electrodes in pepANA.electrode_list\n",
    "pepANA_clean[\"listOfResults\"][0][\"repeat\"][\"data\"][12]"
   ]
  },
  {
   "cell_type": "code",
   "execution_count": null,
   "id": "da48ca1a",
   "metadata": {},
   "outputs": [],
   "source": [
    "# Detected Waveforms at that time\n",
    "pepANA_clean[\"listOfResults\"][0][\"repeat\"][\"data\"][0][1].shape"
   ]
  },
  {
   "cell_type": "code",
   "execution_count": null,
   "id": "6eea75c0",
   "metadata": {},
   "outputs": [],
   "source": [
    "# Times since initial waveform is detected. (48 samples of waveform snippets)\n",
    "# (Contains spikes and noise bc of low threshold \n",
    "# (1.6ms sampled at 30kHz at int8 precision)) \n",
    "\n",
    "pepANA_clean[\"listOfResults\"][0][\"repeat\"][\"data\"][0][0].shape"
   ]
  },
  {
   "cell_type": "code",
   "execution_count": null,
   "id": "b095d18b",
   "metadata": {},
   "outputs": [],
   "source": [
    "# Extract waveform data and spike times\n",
    "waveforms = pepANA_clean[\"listOfResults\"][0][\"repeat\"][\"data\"][0][1]  # (48, 573)\n",
    "arrival_times = pepANA_clean[\"listOfResults\"][0][\"repeat\"][\"data\"][0][0]  # (573,)\n"
   ]
  },
  {
   "cell_type": "code",
   "execution_count": null,
   "id": "0720a5a2",
   "metadata": {},
   "outputs": [],
   "source": [
    "pepANA_clean[\"listOfResults\"][0][\"repeat\"][\"data\"][0]"
   ]
  },
  {
   "cell_type": "code",
   "execution_count": null,
   "id": "548e8d23",
   "metadata": {},
   "outputs": [],
   "source": [
    "# Parameters\n",
    "n_waveforms = waveforms.shape[1]\n",
    "n_samples = waveforms.shape[0]"
   ]
  },
  {
   "cell_type": "code",
   "execution_count": null,
   "id": "31882e59",
   "metadata": {},
   "outputs": [],
   "source": [
    "sampling_rate = 30_000  # Hz\n",
    "offset = 200  # vertical spacing between waveforms\n",
    "time_axis = np.arange(n_samples) / sampling_rate * 1_000  # in milliseconds (0–1.6 ms)"
   ]
  },
  {
   "cell_type": "code",
   "execution_count": null,
   "id": "241917c4",
   "metadata": {},
   "outputs": [],
   "source": [
    "n_waveforms"
   ]
  },
  {
   "cell_type": "code",
   "execution_count": null,
   "id": "627c3a6c",
   "metadata": {},
   "outputs": [],
   "source": [
    "waveform_t = (arrival_times[0] + np.arange(n_samples) / 30000)"
   ]
  },
  {
   "cell_type": "code",
   "execution_count": null,
   "id": "d603e110",
   "metadata": {},
   "outputs": [],
   "source": [
    "n_samples"
   ]
  },
  {
   "cell_type": "code",
   "execution_count": null,
   "id": "9adaf6d8",
   "metadata": {},
   "outputs": [],
   "source": [
    "arrival_times[0]"
   ]
  },
  {
   "cell_type": "code",
   "execution_count": null,
   "id": "e97ee2b3",
   "metadata": {},
   "outputs": [],
   "source": [
    "waveforms[:,0]"
   ]
  },
  {
   "cell_type": "code",
   "execution_count": null,
   "id": "04bee1f1",
   "metadata": {},
   "outputs": [],
   "source": [
    "waveforms.shape[1]"
   ]
  },
  {
   "cell_type": "code",
   "execution_count": null,
   "id": "16a5c5e8",
   "metadata": {},
   "outputs": [],
   "source": [
    "t = 0"
   ]
  },
  {
   "cell_type": "code",
   "execution_count": null,
   "id": "bcb044d7",
   "metadata": {},
   "outputs": [],
   "source": [
    "t += 1\n",
    "t = t % waveforms.shape[1]\n",
    "waveform_t = (arrival_times[t] + np.arange(n_samples) / 30000)\n",
    "plt.plot(waveform_t, waveforms[:,t])"
   ]
  },
  {
   "cell_type": "code",
   "execution_count": null,
   "id": "1b3336b0",
   "metadata": {},
   "outputs": [],
   "source": [
    "pepANA_clean[\"listOfResults\"][0][\"repeat\"][\"data\"][0][1].shape"
   ]
  },
  {
   "cell_type": "code",
   "execution_count": null,
   "id": "33fd7cbf",
   "metadata": {},
   "outputs": [],
   "source": [
    "pepANA_clean[\"listOfResults\"][0][\"repeat\"][\"data\"][0][0][0]"
   ]
  },
  {
   "cell_type": "code",
   "execution_count": null,
   "id": "7a81de9a",
   "metadata": {},
   "outputs": [],
   "source": [
    "pepANA_clean[\"listOfResults\"][0][\"repeat\"][\"data\"][0][1][:, 0]"
   ]
  },
  {
   "cell_type": "code",
   "execution_count": null,
   "id": "a28fe054",
   "metadata": {},
   "outputs": [],
   "source": [
    "plt.plot()"
   ]
  },
  {
   "cell_type": "markdown",
   "id": "82f72464",
   "metadata": {},
   "source": [
    "## Calculate the global mean and standard deviation for each of the 16 electrodes across all samples"
   ]
  },
  {
   "cell_type": "code",
   "execution_count": 10,
   "id": "01aae89c",
   "metadata": {},
   "outputs": [],
   "source": [
    "neuro_data_path = os.path.join(data_root_dir, neuro_root_dir, current_neuro_data)\n",
    "mat = loadmat(neuro_data_path, struct_as_record=False, squeeze_me=True)\n",
    "pepANA = mat[\"pepANA\"]\n",
    "pepANA_clean = matlab_to_python(pepANA)\n"
   ]
  },
  {
   "cell_type": "code",
   "execution_count": 14,
   "id": "941a275d",
   "metadata": {},
   "outputs": [],
   "source": [
    "global_electrode_mean_std = calculate_global_mean_and_std(pepANA_clean, write=True, filename=\"electrode_global_mean_std.json\")"
   ]
  },
  {
   "cell_type": "code",
   "execution_count": 15,
   "id": "dba88233",
   "metadata": {},
   "outputs": [
    {
     "data": {
      "text/plain": [
       "{0: {'mean': -1.7976207342956518, 'std': 18.620448315184728},\n",
       " 1: {'mean': -2.052581657807565, 'std': 13.941962207500119},\n",
       " 2: {'mean': -1.855526213592233, 'std': 13.787108913800049},\n",
       " 3: {'mean': -1.0824869529082486, 'std': 15.445568115641649},\n",
       " 4: {'mean': -1.1331206276667172, 'std': 25.058158919364697},\n",
       " 5: {'mean': -0.49429660614690873, 'std': 24.479246493596893},\n",
       " 6: {'mean': -2.0114783511832424, 'std': 9.379316165769762},\n",
       " 7: {'mean': -0.9960047160637884, 'std': 25.411313235799682},\n",
       " 8: {'mean': -2.0144884966391605, 'std': 24.848789813699597},\n",
       " 9: {'mean': -1.5876223494190826, 'std': 14.263069858221387},\n",
       " 10: {'mean': -1.7129196660667867, 'std': 14.03654235360675},\n",
       " 11: {'mean': -2.0415448419010356, 'std': 12.33214201132105},\n",
       " 12: {'mean': -3.1126146195089257, 'std': 14.972900862614798},\n",
       " 13: {'mean': -1.1270642555199275, 'std': 15.712746337360366},\n",
       " 14: {'mean': -1.3769917103530203, 'std': 18.881028669358148},\n",
       " 15: {'mean': -1.1975715679541268, 'std': 16.410864896346347}}"
      ]
     },
     "execution_count": 15,
     "metadata": {},
     "output_type": "execute_result"
    }
   ],
   "source": [
    "global_electrode_mean_std"
   ]
  },
  {
   "cell_type": "markdown",
   "id": "1c9b87dd",
   "metadata": {},
   "source": [
    "## SVD of Waveforms"
   ]
  },
  {
   "cell_type": "code",
   "execution_count": null,
   "id": "fd56582c",
   "metadata": {},
   "outputs": [],
   "source": [
    "neuro_data_path = os.path.join(data_root_dir, neuro_root_dir, current_neuro_data)\n",
    "mat = loadmat(neuro_data_path, struct_as_record=False, squeeze_me=True)\n",
    "pepANA = mat[\"pepANA\"]\n",
    "pepANA_clean = matlab_to_python(pepANA)\n",
    "signal_idx, mean_noise_waveform = analyze_waveform(pepANA_clean, 0, verbose=True)"
   ]
  },
  {
   "cell_type": "code",
   "execution_count": null,
   "id": "93d77aa1",
   "metadata": {},
   "outputs": [],
   "source": [
    "neuro_data_path"
   ]
  },
  {
   "cell_type": "code",
   "execution_count": null,
   "id": "cef48661",
   "metadata": {},
   "outputs": [],
   "source": [
    "pepANA_clean[\"listOfResults\"][0][\"repeat\"][\"data\"][0][1].shape"
   ]
  },
  {
   "cell_type": "code",
   "execution_count": null,
   "id": "3d8a9e5f",
   "metadata": {},
   "outputs": [],
   "source": [
    "pepANA_clean[\"listOfResults\"][0][\"repeat\"][\"data\"][0][0].shape"
   ]
  },
  {
   "cell_type": "code",
   "execution_count": null,
   "id": "3846c00b",
   "metadata": {},
   "outputs": [],
   "source": [
    "pepANA_clean[\"listOfResults\"][0][\"repeat\"][\"data\"][0][0][:5]"
   ]
  },
  {
   "cell_type": "code",
   "execution_count": null,
   "id": "f310be13",
   "metadata": {},
   "outputs": [],
   "source": [
    "signal_idx, mean_noise_waveform = analyze_waveform(pepANA_clean, 0, verbose=True)"
   ]
  },
  {
   "cell_type": "code",
   "execution_count": null,
   "id": "3475da79",
   "metadata": {},
   "outputs": [],
   "source": [
    "signal_idx.__len__()"
   ]
  },
  {
   "cell_type": "code",
   "execution_count": null,
   "id": "947f5f7a",
   "metadata": {},
   "outputs": [],
   "source": [
    "# Arrival Times of Detected Signals\n",
    "pepANA_clean[\"listOfResults\"][0][\"repeat\"][\"data\"][0][0][signal_idx]"
   ]
  },
  {
   "cell_type": "code",
   "execution_count": null,
   "id": "cfbef30f",
   "metadata": {},
   "outputs": [],
   "source": [
    "# detected_signal_times_for_ch_0 = pepANA_clean[\"listOfResults\"][0][\"repeat\"][\"data\"][0][0][signal_idx]"
   ]
  },
  {
   "cell_type": "code",
   "execution_count": null,
   "id": "17a30580",
   "metadata": {},
   "outputs": [],
   "source": [
    "pepANA_clean[\"listOfResults\"][0][\"repeat\"][\"data\"][0][0][signal_idx]"
   ]
  },
  {
   "cell_type": "code",
   "execution_count": null,
   "id": "68e4c182",
   "metadata": {},
   "outputs": [],
   "source": [
    "# Waveforms that are 48 samples long that are verifiably signal\n",
    "pepANA_clean[\"listOfResults\"][0][\"repeat\"][\"data\"][0][1][:, signal_idx].shape"
   ]
  },
  {
   "cell_type": "code",
   "execution_count": null,
   "id": "56dba109",
   "metadata": {},
   "outputs": [],
   "source": [
    "pepANA_clean[\"listOfResults\"][0][\"repeat\"][\"data\"][1][1].shape\n",
    "\n",
    "# pepANA_clean[\"listOfResults\"][0][\"repeat\"][\"data\"][0][1][:, signal_idx]"
   ]
  },
  {
   "cell_type": "code",
   "execution_count": null,
   "id": "825a9f1d",
   "metadata": {},
   "outputs": [],
   "source": [
    "pepANA_clean[\"listOfResults\"][0][\"repeat\"][\"data\"][1][1].shape"
   ]
  },
  {
   "cell_type": "code",
   "execution_count": null,
   "id": "8cb6af24",
   "metadata": {},
   "outputs": [],
   "source": [
    "sample_time = pepANA_clean[\"listOfResults\"][0][\"repeat\"][\"data\"][0][0][signal_idx][0]"
   ]
  },
  {
   "cell_type": "code",
   "execution_count": null,
   "id": "2b07c54f",
   "metadata": {},
   "outputs": [],
   "source": [
    "pepANA_clean[\"listOfResults\"][0][\"repeat\"][\"data\"][0][0][signal_idx]"
   ]
  },
  {
   "cell_type": "code",
   "execution_count": null,
   "id": "1bf6620a",
   "metadata": {},
   "outputs": [],
   "source": [
    "pepANA_clean[\"listOfResults\"][0][\"repeat\"][\"data\"][1][0]"
   ]
  },
  {
   "cell_type": "code",
   "execution_count": null,
   "id": "63db5259",
   "metadata": {},
   "outputs": [],
   "source": [
    "plot_signal_waveforms_aligned(pepANA_clean, 0, signal_idx, electrode=0, sampling_rate=30000.0)"
   ]
  },
  {
   "cell_type": "code",
   "execution_count": null,
   "id": "709477b2",
   "metadata": {},
   "outputs": [],
   "source": [
    "pepANA_clean[\"listOfResults\"][0][\"repeat\"][\"data\"]"
   ]
  },
  {
   "cell_type": "code",
   "execution_count": null,
   "id": "18561f24",
   "metadata": {},
   "outputs": [],
   "source": [
    "pepANA_clean[\"listOfResults\"][0][\"repeat\"][\"data\"]"
   ]
  },
  {
   "cell_type": "code",
   "execution_count": null,
   "id": "ff0e838d",
   "metadata": {},
   "outputs": [],
   "source": [
    "condition = 0\n",
    "electrode +=1 \n",
    "electrode %= 16\n",
    "\n",
    "pepANA_clean[\"listOfResults\"][condition][\"repeat\"][\"data\"][electrode][1].shape"
   ]
  },
  {
   "cell_type": "code",
   "execution_count": null,
   "id": "cf0bb316",
   "metadata": {},
   "outputs": [],
   "source": [
    "# Associating frames with spike signals\n",
    "pepANA_clean[\"listOfResults\"][0][\"repeat\"][\"data\"][0][1][:, signal_idx]"
   ]
  },
  {
   "cell_type": "code",
   "execution_count": null,
   "id": "7e1dc3c4",
   "metadata": {},
   "outputs": [],
   "source": [
    "movie_id, segment_id = pepANA_clean[\"listOfResults\"][0][\"values\"]\n",
    "movie_id, segment_id\n",
    "signal_idx"
   ]
  },
  {
   "cell_type": "code",
   "execution_count": null,
   "id": "5f6ba51c",
   "metadata": {},
   "outputs": [],
   "source": [
    "# Time between frames and detected signals\n",
    "latency = 60e-3\n",
    "frame_period = 1/30 # Hz"
   ]
  },
  {
   "cell_type": "code",
   "execution_count": null,
   "id": "aa827a07",
   "metadata": {},
   "outputs": [],
   "source": [
    "pepANA_clean[\"listOfResults\"][0][\"repeat\"][\"data\"][0][0]"
   ]
  },
  {
   "cell_type": "markdown",
   "id": "3729a744",
   "metadata": {},
   "source": [
    "## Identifying the stimulus image"
   ]
  },
  {
   "cell_type": "code",
   "execution_count": null,
   "id": "a16dd774",
   "metadata": {},
   "outputs": [],
   "source": [
    "full_image_path_l = identify_stimulus_images(pepANA_clean, signal_idx, condition=0, electrode=0, latency=60e-3)"
   ]
  },
  {
   "cell_type": "code",
   "execution_count": null,
   "id": "892cdd05",
   "metadata": {},
   "outputs": [],
   "source": [
    "full_image_path_l.__len__()"
   ]
  },
  {
   "cell_type": "code",
   "execution_count": null,
   "id": "ab6c3dee",
   "metadata": {},
   "outputs": [],
   "source": [
    "full_image_path = full_image_path_l[0]"
   ]
  },
  {
   "cell_type": "code",
   "execution_count": null,
   "id": "1587fb9a",
   "metadata": {},
   "outputs": [],
   "source": [
    "image = cv2.imread(full_image_path, cv2.IMREAD_COLOR)\n",
    "cv2.imshow(\"Image\", image) \n",
    "cv2.waitKey(0) \n",
    "cv2.destroyAllWindows()"
   ]
  },
  {
   "cell_type": "markdown",
   "id": "7a75b3fd",
   "metadata": {},
   "source": [
    "Next Steps:\n",
    "- [x] I identify all 16x48 waveforms that are associated with spiking activity of each of the 16 electrodes for all 120 conditions. \n",
    "- [x] I use SVD to detect the signal indices, \n",
    "- [ ] collect the movie images, \n",
    "- [x] identify the other 15 electrode waveforms at the spike time of the original electrode, \n",
    "- [x] normalize these waveforms with a per-channel zero mean and unit variance. Then I \n",
    "- [ ] define the architecture of a neural network that will generate an image based upon a 16x48 waveform input. Then I \n",
    "- [ ] iterate through the 16x48 waveforms that I have and \n",
    "- [ ] Create a Train and test dataset for the neural network\n",
    "- [ ] Train the neural network\n",
    "- [ ] iterate through the 16x48 waveforms that I have randomly\n",
    "- [ ] send the 16x48 waveforms through a websocket endpoint to a relay \n",
    "- [ ] generate an image in the relay using the trained neural network\n",
    "- [ ] Visualize the image in a react frontend.\n"
   ]
  },
  {
   "cell_type": "markdown",
   "id": "ac2b341c",
   "metadata": {},
   "source": [
    "## identify all 16x48 waveforms that are associated with spiking activity of each of the 16 electrodes for all 120 conditions. "
   ]
  },
  {
   "cell_type": "markdown",
   "id": "3fcd36f0",
   "metadata": {},
   "source": [
    "I need to preallocate an array that is Nx16x48 where N is the number of detected spikes. Then for each channel I need to identify if there is a matching spike on another channel by using the detected spike times of the original channel to search the other arrays. If there is a detected starting time then I need to extract the 48 samples from that starting time and populate the array with those samples at the corresponding signal in the initial detected electrode. All non-detected times will be set to zero so the pre-allocation must be initialized to zero. \n",
    "\n",
    "Then I will iterate to the next electrode for all 16 electrodes and use SVD to detect spike times and the corresponding stimulus images list. Then I will perform the same function as defined above:\n",
    "\n",
    "I need to preallocate an array that is Nx16x48 where N is the number of detected spikes. Then for each channel I need to identify if there is a matching spike on another channel by using the detected spike times of the original channel to search the other arrays. If there is a detected starting time then I need to extract the 48 samples from that starting time and populate the array with those samples at the corresponding signal in the initial detected electrode. All non-detected times will be set to zero so the pre-allocation must be initialized to zero. \n",
    "\n",
    "Then I will move to the next condition and perform this operation for all 120 conditions identifying all Nx16x48 waveform samples and N stimulus images for 16 electrodes for all 120 conditions. I will save the 16xNx16x48 Numpy array and the 16xN list of images for all 120 electrodes where N is the number of detected signals and corresponding stimulus images. \n",
    "\n",
    "Each 16x48 sample is only representative of a single electrode that is associated with the image. I have N samples for the single electrode for all 16 electrodes. I need to train the model such that the features that each electrode responds to are captured by the model such that when I have 16 arbitrary waveforms of 48 samples long, the resulting image is correspondent to the features that stimulated those electrodes initially. I do not want to train the model such that there are 1 stimulus electrode and 15 noise or zero value electrodes and then send a sample that only generates the single feature. I want to send a signal that comprises all electrodes and generates the corresponding image as a result. The other channels may be noise, but I dont want to train the model to detect only a single channel. I want the model to capture the features that each channel corresponds to in the stimulus image. \n",
    "\n",
    "Use SVD on the other channels. Capture the mean noise signal. This will be used as a placeholder for signals that are non-present.\n"
   ]
  },
  {
   "cell_type": "code",
   "execution_count": 16,
   "id": "60b1cf50",
   "metadata": {},
   "outputs": [],
   "source": [
    "neuro_data_path = os.path.join(data_root_dir, neuro_root_dir, current_neuro_data)\n",
    "mat = loadmat(neuro_data_path, struct_as_record=False, squeeze_me=True)\n",
    "pepANA = mat[\"pepANA\"]\n",
    "pepANA_clean = matlab_to_python(pepANA)"
   ]
  },
  {
   "cell_type": "code",
   "execution_count": null,
   "id": "eeda2977",
   "metadata": {},
   "outputs": [],
   "source": [
    "signal_idx_l, mean_noise_waveforms = collect_mean_noise_waveforms_and_signal_indices(pepANA_clean, condition=condition, verbose=False)"
   ]
  },
  {
   "cell_type": "code",
   "execution_count": 19,
   "id": "8a651261",
   "metadata": {},
   "outputs": [
    {
     "name": "stderr",
     "output_type": "stream",
     "text": [
      "Preprocessing conditions: 100%|██████████| 120/120 [10:02<00:00,  5.02s/it]\n"
     ]
    }
   ],
   "source": [
    "# Important\n",
    "LATENCY = 60e-3\n",
    "# for each electrode, identify all the stimulus spikes and the waveforms for the other 15 electrodes at the stimulus spike times. If the waveforms are not found, use the mean noise waveform.\n",
    "# Initialize nested dictionary\n",
    "collected_stimulus_images_from_all_electrodes_for_all_conditions_dict = defaultdict(lambda: defaultdict(list))\n",
    "collected_stimulus_waveforms_from_all_electrodes_l_for_all_conditions_l = []\n",
    "\n",
    "for condition in tqdm(range(120), desc=\"Preprocessing conditions\", ascii=\"░▒▓█\"):\n",
    "    signal_idx_l, mean_noise_waveforms = collect_mean_noise_waveforms_and_signal_indices(pepANA_clean, condition=condition, verbose=False)\n",
    "    \n",
    "    # COLLECT ALL WAVEFORMS FOR THE 16 ELECTRODES FOR THE CURRENT CONDITION AND NORMALIZE PER ELECTRODE\n",
    "    collected_stimulus_waveforms_from_all_electrodes_l = []\n",
    "    for init_electrode in range(16):\n",
    "        spike_times_to_id = pepANA_clean[\"listOfResults\"][condition][\"repeat\"][\"data\"][init_electrode][0][signal_idx_l[init_electrode]]\n",
    "        \n",
    "        # COLLECT THE STIMULUS IMAGES \n",
    "        collected_stimulus_images_from_all_electrodes_for_all_conditions_dict[condition][init_electrode] = identify_stimulus_images(pepANA_clean, signal_idx=signal_idx_l[init_electrode], condition=condition, electrode=init_electrode, latency=LATENCY)        \n",
    "        \n",
    "        \n",
    "        collected_stimulus_waveforms_from_all_electrodes = np.zeros((len(spike_times_to_id), 16, 48))\n",
    "        time_idx = 0\n",
    "        for time in spike_times_to_id:\n",
    "            for electrode in range(16):\n",
    "                if electrode == init_electrode:\n",
    "                    for time in spike_times_to_id:\n",
    "                        # find index of 'time' in the time array of electrode \"electrode\"\n",
    "                        time_arr = pepANA_clean[\"listOfResults\"][condition][\"repeat\"][\"data\"][electrode][0]\n",
    "                        # find index where time matches exactly\n",
    "                        time_indices = np.where(time_arr == time)[0]\n",
    "\n",
    "                        if time_indices.size > 0:\n",
    "                            time_index = time_indices[0]  # take first match\n",
    "                            waveform = pepANA_clean[\"listOfResults\"][condition][\"repeat\"][\"data\"][electrode][1][:, time_index].flatten()\n",
    "                            # normalize waveform to zero mean and unit variance using the global statistics per electrode\n",
    "                            waveform = (waveform - global_electrode_mean_std[electrode][\"mean\"]) / global_electrode_mean_std[electrode][\"std\"]\n",
    "                            collected_stimulus_waveforms_from_all_electrodes[time_idx][electrode] = waveform\n",
    "                \n",
    "\n",
    "                time_arr = pepANA_clean[\"listOfResults\"][condition][\"repeat\"][\"data\"][electrode][0]\n",
    "                temporal_index = np.nonzero(np.isin(time_arr, time))[0]\n",
    "                if len(temporal_index) > 0:\n",
    "                    waveform = pepANA_clean[\"listOfResults\"][condition][\"repeat\"][\"data\"][electrode][1][:, temporal_index].flatten()\n",
    "                    # normalize waveform to zero mean and unit variance using the global statistics per electrode\n",
    "                    waveform = (waveform - global_electrode_mean_std[electrode][\"mean\"]) / global_electrode_mean_std[electrode][\"std\"]\n",
    "                    collected_stimulus_waveforms_from_all_electrodes[time_idx][electrode] = waveform\n",
    "                else:\n",
    "                    # normalize waveform to zero mean and unit variance using the global statistics per electrode\n",
    "                    collected_stimulus_waveforms_from_all_electrodes[time_idx][electrode] = (mean_noise_waveforms[electrode] - global_electrode_mean_std[electrode][\"mean\"]) / global_electrode_mean_std[electrode][\"std\"]\n",
    "            time_idx +=1 \n",
    "        collected_stimulus_waveforms_from_all_electrodes_l.append(collected_stimulus_waveforms_from_all_electrodes)\n",
    "    collected_stimulus_waveforms_from_all_electrodes_l_for_all_conditions_l.append(collected_stimulus_waveforms_from_all_electrodes_l)"
   ]
  },
  {
   "cell_type": "code",
   "execution_count": 21,
   "id": "c96ccf9d",
   "metadata": {},
   "outputs": [
    {
     "data": {
      "text/plain": [
       "120"
      ]
     },
     "execution_count": 21,
     "metadata": {},
     "output_type": "execute_result"
    }
   ],
   "source": [
    "collected_stimulus_waveforms_from_all_electrodes_l_for_all_conditions_l.__len__()"
   ]
  },
  {
   "cell_type": "code",
   "execution_count": 23,
   "id": "672bec0d",
   "metadata": {},
   "outputs": [
    {
     "data": {
      "text/plain": [
       "16"
      ]
     },
     "execution_count": 23,
     "metadata": {},
     "output_type": "execute_result"
    }
   ],
   "source": [
    "collected_stimulus_waveforms_from_all_electrodes_l_for_all_conditions_l[0].__len__()"
   ]
  },
  {
   "cell_type": "code",
   "execution_count": 25,
   "id": "5586013d",
   "metadata": {},
   "outputs": [
    {
     "data": {
      "text/plain": [
       "192"
      ]
     },
     "execution_count": 25,
     "metadata": {},
     "output_type": "execute_result"
    }
   ],
   "source": [
    "collected_stimulus_waveforms_from_all_electrodes_l_for_all_conditions_l[0][0].__len__()"
   ]
  },
  {
   "cell_type": "code",
   "execution_count": 27,
   "id": "2331a64c",
   "metadata": {},
   "outputs": [],
   "source": [
    "# Test that each detected stimulus signal are associated with a stimulus image\n",
    "for condition in range(120):\n",
    "    for electrode in range(16):\n",
    "        assert collected_stimulus_images_from_all_electrodes_for_all_conditions_dict[condition][electrode].__len__() == collected_stimulus_waveforms_from_all_electrodes_l_for_all_conditions_l[condition][electrode].__len__()"
   ]
  },
  {
   "cell_type": "code",
   "execution_count": null,
   "id": "8d262309",
   "metadata": {},
   "outputs": [],
   "source": []
  }
 ],
 "metadata": {
  "kernelspec": {
   "display_name": "torch",
   "language": "python",
   "name": "python3"
  },
  "language_info": {
   "codemirror_mode": {
    "name": "ipython",
    "version": 3
   },
   "file_extension": ".py",
   "mimetype": "text/x-python",
   "name": "python",
   "nbconvert_exporter": "python",
   "pygments_lexer": "ipython3",
   "version": "3.11.13"
  }
 },
 "nbformat": 4,
 "nbformat_minor": 5
}
