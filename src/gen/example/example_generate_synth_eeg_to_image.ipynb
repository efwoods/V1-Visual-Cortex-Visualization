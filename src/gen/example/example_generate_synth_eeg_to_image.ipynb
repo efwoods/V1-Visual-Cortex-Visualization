{
 "cells": [
  {
   "cell_type": "code",
   "execution_count": 3,
   "id": "697fc2e8",
   "metadata": {},
   "outputs": [],
   "source": [
    "import torch\n",
    "import torch.nn as nn\n",
    "import torch.optim as optim\n",
    "from torchvision.utils import save_image\n",
    "import os\n",
    "\n",
    "# Device config\n",
    "device = torch.device('cuda' if torch.cuda.is_available() else 'cpu')"
   ]
  },
  {
   "cell_type": "code",
   "execution_count": 19,
   "id": "56f8fa49",
   "metadata": {},
   "outputs": [],
   "source": [
    "# Parameters\n",
    "latent_dim = 100 # synthetic neural data size\n",
    "image_size = 28*28\n",
    "batch_size = 64\n",
    "num_epochs = 200\n",
    "save_dir = './generated_images'\n",
    "real_images = './real_images'\n",
    "os.makedirs(save_dir, exist_ok=True)\n",
    "os.makedirs(real_images, exist_ok=True)\n"
   ]
  },
  {
   "cell_type": "code",
   "execution_count": null,
   "id": "da5354c5",
   "metadata": {},
   "outputs": [],
   "source": [
    "# Create synthetic neural data\n",
    "def generate_synthetic_neural_data(batch_size, dim=latent_dim):\n",
    "    return torch.randn(batch_size, dim).to(device)"
   ]
  },
  {
   "cell_type": "code",
   "execution_count": 12,
   "id": "a9fc2e6e",
   "metadata": {},
   "outputs": [],
   "source": [
    "# Generator\n",
    "class Generator(nn.Module):\n",
    "    def __init__(self, input_dim, img_shape):\n",
    "        super(Generator, self).__init__()\n",
    "        self.img_shape = img_shape\n",
    "        self.model = nn.Sequential(\n",
    "            nn.Linear(input_dim, 256),\n",
    "            nn.LeakyReLU(0.2, inplace=True),\n",
    "\n",
    "            nn.Linear(256, 512),\n",
    "            nn.BatchNorm1d(512),\n",
    "            nn.LeakyReLU(0.2, inplace=True),\n",
    "\n",
    "            nn.Linear(512, 1024),\n",
    "            nn.BatchNorm1d(1024), \n",
    "            nn.LeakyReLU(0.2, inplace=True),\n",
    "\n",
    "            nn.Linear(1024, int(torch.prod(torch.tensor(img_shape)))), \n",
    "            nn.Tanh()\n",
    "        )\n",
    "\n",
    "    def forward(self, z):\n",
    "        img = self.model(z)\n",
    "        return img.view(z.size(0), *self.img_shape)\n",
    "    \n",
    "# Discriminator\n",
    "class Discriminator(nn.Module):\n",
    "    def __init__(self, img_shape):\n",
    "        super(Discriminator, self).__init__()\n",
    "        self.model = nn.Sequential(\n",
    "            nn.Linear(int(torch.prod(torch.tensor(img_shape))), 512),\n",
    "\n",
    "            nn.Linear(512, 256), \n",
    "            nn.LeakyReLU(0.2, inplace=True),\n",
    "\n",
    "            nn.Linear(256, 1), \n",
    "            nn.Sigmoid()\n",
    "        )\n",
    "    def forward(self, img):\n",
    "        flat = img.view(img.size(0), -1)\n",
    "        return self.model(flat)"
   ]
  },
  {
   "cell_type": "code",
   "execution_count": 20,
   "id": "3cdc357c",
   "metadata": {},
   "outputs": [
    {
     "name": "stdout",
     "output_type": "stream",
     "text": [
      "[Epoch 0/200] D loss: 0.6819 | G loss: 0.6966\n",
      "[Epoch 10/200] D loss: 0.6398 | G loss: 0.7657\n",
      "[Epoch 20/200] D loss: 0.6428 | G loss: 0.7527\n",
      "[Epoch 30/200] D loss: 0.6313 | G loss: 0.7791\n",
      "[Epoch 40/200] D loss: 0.5294 | G loss: 1.0332\n",
      "[Epoch 50/200] D loss: 0.5052 | G loss: 1.1105\n",
      "[Epoch 60/200] D loss: 0.4944 | G loss: 1.3233\n",
      "[Epoch 70/200] D loss: 0.4271 | G loss: 1.7806\n",
      "[Epoch 80/200] D loss: 0.4421 | G loss: 1.7702\n",
      "[Epoch 90/200] D loss: 0.4793 | G loss: 1.8011\n",
      "[Epoch 100/200] D loss: 0.4943 | G loss: 2.0740\n",
      "[Epoch 110/200] D loss: 0.4861 | G loss: 2.0274\n",
      "[Epoch 120/200] D loss: 0.4780 | G loss: 1.4115\n",
      "[Epoch 130/200] D loss: 0.5187 | G loss: 1.1615\n",
      "[Epoch 140/200] D loss: 0.5607 | G loss: 1.0825\n",
      "[Epoch 150/200] D loss: 0.5510 | G loss: 1.1172\n",
      "[Epoch 160/200] D loss: 0.5360 | G loss: 1.0352\n",
      "[Epoch 170/200] D loss: 0.5248 | G loss: 1.1519\n",
      "[Epoch 180/200] D loss: 0.4882 | G loss: 1.3849\n",
      "[Epoch 190/200] D loss: 0.4931 | G loss: 1.2581\n"
     ]
    }
   ],
   "source": [
    "# Initialize models\n",
    "img_shape = (1, 28, 28)\n",
    "generator = Generator(latent_dim, img_shape).to(device)\n",
    "discriminator = Discriminator(img_shape).to(device)\n",
    "\n",
    "# Loss and optimizers\n",
    "adversarial_loss = nn.BCELoss()\n",
    "optimizer_G = optim.Adam(generator.parameters(), lr=0.0002, betas=(0.5, 0.999))\n",
    "optimizer_D = optim.Adam(discriminator.parameters(), lr=0.0002, betas=(0.5, 0.999))\n",
    "\n",
    "# Training loop\n",
    "for epoch in range(num_epochs):\n",
    "    # Generate data\n",
    "    real_imgs = torch.randn(batch_size, *img_shape).to(device)\n",
    "    z = generate_synthetic_neural_data(batch_size)\n",
    "\n",
    "    # Ground truths\n",
    "    valid = torch.ones(batch_size, 1).to(device)\n",
    "    fake = torch.zeros(batch_size, 1).to(device)\n",
    "\n",
    "    # --- Train Generator ---\n",
    "    optimizer_G.zero_grad()\n",
    "    gen_imgs = generator(z)\n",
    "    g_loss = adversarial_loss(discriminator(gen_imgs), valid)\n",
    "    g_loss.backward()\n",
    "    optimizer_G.step()\n",
    "\n",
    "    # --- Train Discriminator ---\n",
    "    optimizer_D.zero_grad()\n",
    "    real_loss = adversarial_loss(discriminator(real_imgs), valid)\n",
    "    fake_loss = adversarial_loss(discriminator(gen_imgs.detach()), fake)\n",
    "    d_loss = (real_loss + fake_loss) / 2\n",
    "    d_loss.backward()\n",
    "    optimizer_D.step()\n",
    "\n",
    "    # Save progress\n",
    "    if epoch % 10 == 0:\n",
    "        print(f\"[Epoch {epoch}/{num_epochs}] D loss: {d_loss.item():.4f} | G loss: {g_loss.item():.4f}\")\n",
    "        save_image(gen_imgs.data[:25], f\"{save_dir}/epoch_{epoch}.png\", nrow=5, normalize=True)\n",
    "        save_image(real_imgs.data[:25], f\"{real_images}/epoch_{epoch}_real.png\", nrow=4, normalize=True)\n"
   ]
  }
 ],
 "metadata": {
  "kernelspec": {
   "display_name": "torch",
   "language": "python",
   "name": "python3"
  },
  "language_info": {
   "codemirror_mode": {
    "name": "ipython",
    "version": 3
   },
   "file_extension": ".py",
   "mimetype": "text/x-python",
   "name": "python",
   "nbconvert_exporter": "python",
   "pygments_lexer": "ipython3",
   "version": "3.10.16"
  }
 },
 "nbformat": 4,
 "nbformat_minor": 5
}
